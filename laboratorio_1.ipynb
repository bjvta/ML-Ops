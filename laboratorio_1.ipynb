{
 "cells": [
  {
   "cell_type": "markdown",
   "id": "707b0bc4-bda9-4a36-b331-cb2d3184a9a4",
   "metadata": {
    "vscode": {
     "languageId": "plaintext"
    }
   },
   "source": [
    "# Laboratorio 1\n"
   ]
  },
  {
   "cell_type": "markdown",
   "id": "2cd49aa6-939b-4caf-96f1-575ca67cef57",
   "metadata": {},
   "source": [
    "## Ejercicio 1: Trabajando con Tensores\n",
    "\n",
    "1. Crear tres tensores que contengan valores aleatorios entre 0 y 20 con forma [5, 300, 3], mostrar estos tensores y mostrar los elementos que se repiten en los tres.\n",
    "2. Crear dos tensores con valores aleatorios entre 0 y 1 con forma [224, 224, 3], y encontrar su producto punto.\n",
    "3. Encontrar los valores mínimo y máximo de los tensores que creó en el anterior punto.\n",
    "4. Crear un tensor con valores aleatorios entre el 0 y 1 usando una la distribución uniforme y con la forma [1, 224, 224, 3]. Luego exprimirlo para cambiar a la forma a [224, 224, 3].\n",
    "5. Crear 5 imágenes en escala de grises de 5x5 con Numpy y transformarlas en un tensor con las dimensiones [5,1,1,5,5].\n",
    "6. Programar una función para visualizar cualquiera de las imágenes generadas en el paso anterior. Se sugiere usar el módulo pyplot para visualizar cualquier array de numpy con 2 o 3 dimensiones, y que cuente con el formato np.uint8"
   ]
  },
  {
   "cell_type": "code",
   "execution_count": 1,
   "id": "80026f5e-141f-4a36-98e1-716712955a41",
   "metadata": {},
   "outputs": [],
   "source": [
    "import tensorflow as tf\n",
    "import tensorflow_datasets as tfds\n",
    "import numpy as np\n",
    "import matplotlib.pyplot as plt"
   ]
  },
  {
   "cell_type": "code",
   "execution_count": 2,
   "id": "a7c6e3b3-6642-46b8-9b1b-2b25c34e1cd5",
   "metadata": {
    "scrolled": true
   },
   "outputs": [
    {
     "name": "stdout",
     "output_type": "stream",
     "text": [
      "Tensor 1:\n",
      " [[[18 19 13]\n",
      "  [ 9  5  7]\n",
      "  [ 0 18  9]\n",
      "  ...\n",
      "  [15 14  2]\n",
      "  [ 4 11  9]\n",
      "  [ 9 11 11]]\n",
      "\n",
      " [[10  6  8]\n",
      "  [12 13  3]\n",
      "  [ 8 11  5]\n",
      "  ...\n",
      "  [17  3  0]\n",
      "  [ 4 18 18]\n",
      "  [18 15  0]]\n",
      "\n",
      " [[16 17 11]\n",
      "  [12 12  5]\n",
      "  [16  2 13]\n",
      "  ...\n",
      "  [19  0  3]\n",
      "  [ 9 11 18]\n",
      "  [11 17 11]]\n",
      "\n",
      " [[ 9  3  4]\n",
      "  [ 2 16 17]\n",
      "  [11  2 13]\n",
      "  ...\n",
      "  [16  2 10]\n",
      "  [ 1 19 12]\n",
      "  [12  8 19]]\n",
      "\n",
      " [[16  3  5]\n",
      "  [13 17 12]\n",
      "  [14  3  5]\n",
      "  ...\n",
      "  [15 19  4]\n",
      "  [ 0  8  5]\n",
      "  [10 14  2]]]\n",
      "Tensor 2:\n",
      " [[[ 9 14 15]\n",
      "  [ 2  9 18]\n",
      "  [ 2  3 11]\n",
      "  ...\n",
      "  [10 18 19]\n",
      "  [10  4 11]\n",
      "  [15 10  3]]\n",
      "\n",
      " [[14  6 11]\n",
      "  [ 6  9  2]\n",
      "  [14 16 19]\n",
      "  ...\n",
      "  [ 3  5  5]\n",
      "  [11 19 11]\n",
      "  [10 15  1]]\n",
      "\n",
      " [[13  2  8]\n",
      "  [11  2 19]\n",
      "  [ 9  6  5]\n",
      "  ...\n",
      "  [ 1  7  1]\n",
      "  [ 7 14 13]\n",
      "  [ 3 18  8]]\n",
      "\n",
      " [[ 9  8  8]\n",
      "  [ 5  3 18]\n",
      "  [15  0 19]\n",
      "  ...\n",
      "  [ 6 14 15]\n",
      "  [ 1  7 19]\n",
      "  [18  7  3]]\n",
      "\n",
      " [[11 14 12]\n",
      "  [ 1  6 18]\n",
      "  [ 0 13 15]\n",
      "  ...\n",
      "  [ 8 19 18]\n",
      "  [ 1  4 19]\n",
      "  [ 0 16  4]]]\n",
      "Tensor 3:\n",
      " [[[ 3 10 16]\n",
      "  [ 8  9 10]\n",
      "  [15  2 12]\n",
      "  ...\n",
      "  [ 9  3 18]\n",
      "  [ 3  2 17]\n",
      "  [14 16 19]]\n",
      "\n",
      " [[11  6 16]\n",
      "  [ 8  9  3]\n",
      "  [ 6 11  0]\n",
      "  ...\n",
      "  [14  5 17]\n",
      "  [ 5  4  8]\n",
      "  [17 14 19]]\n",
      "\n",
      " [[15 19 16]\n",
      "  [ 0  9  1]\n",
      "  [ 3 10 15]\n",
      "  ...\n",
      "  [17 14  6]\n",
      "  [16 19 12]\n",
      "  [ 4 10  7]]\n",
      "\n",
      " [[ 0  9 19]\n",
      "  [15 19  9]\n",
      "  [13  6  4]\n",
      "  ...\n",
      "  [13 15 19]\n",
      "  [ 4 16 19]\n",
      "  [11  8  3]]\n",
      "\n",
      " [[ 8 13  6]\n",
      "  [11 10 14]\n",
      "  [ 9  3 17]\n",
      "  ...\n",
      "  [ 6  8 15]\n",
      "  [15  2 10]\n",
      "  [16  0  8]]]\n",
      "\n",
      "Elementos comunes a los tres tensores: [ 0  1  2  3  4  5  6  7  8  9 10 11 12 13 14 15 16 17 18 19]\n"
     ]
    }
   ],
   "source": [
    "# 1. Crear tres tensores aleatorios entre 0 y 20 con forma [5, 300, 3]\n",
    "t1 = tf.random.uniform(shape=[5, 300, 3], minval=0, maxval=20, dtype=tf.int32)\n",
    "t2 = tf.random.uniform(shape=[5, 300, 3], minval=0, maxval=20, dtype=tf.int32)\n",
    "t3 = tf.random.uniform(shape=[5, 300, 3], minval=0, maxval=20, dtype=tf.int32)\n",
    "\n",
    "print(\"Tensor 1:\\n\", t1.numpy())\n",
    "print(\"Tensor 2:\\n\", t2.numpy())\n",
    "print(\"Tensor 3:\\n\", t3.numpy())\n",
    "\n",
    "# Mostrar elementos que se repiten en los tres\n",
    "# Convertimos a 1D para la intersección\n",
    "common = np.intersect1d(\n",
    "    np.intersect1d(t1.numpy().flatten(), t2.numpy().flatten()),\n",
    "    t3.numpy().flatten()\n",
    ")\n",
    "print(\"\\nElementos comunes a los tres tensores:\", common)"
   ]
  },
  {
   "cell_type": "code",
   "execution_count": 3,
   "id": "12a2a252-9bb8-47f2-9906-490914b4facd",
   "metadata": {},
   "outputs": [
    {
     "name": "stdout",
     "output_type": "stream",
     "text": [
      "\n",
      "Producto punto de a y b: 37382.91\n"
     ]
    }
   ],
   "source": [
    "# 2. Crear dos tensores aleatorios entre 0 y 1 con forma [224, 224, 3]\n",
    "a = tf.random.uniform(shape=[224, 224, 3], minval=0, maxval=1, dtype=tf.float32)\n",
    "b = tf.random.uniform(shape=[224, 224, 3], minval=0, maxval=1, dtype=tf.float32)\n",
    "\n",
    "# Producto punto (flatten primero para coincidir dimensiones)\n",
    "dot_product = tf.tensordot(tf.reshape(a, [-1]), tf.reshape(b, [-1]), axes=1)\n",
    "print(\"\\nProducto punto de a y b:\", dot_product.numpy())"
   ]
  },
  {
   "cell_type": "code",
   "execution_count": 4,
   "id": "16942701-837f-41e7-b764-2514f93d0b66",
   "metadata": {},
   "outputs": [
    {
     "name": "stdout",
     "output_type": "stream",
     "text": [
      "Mínimo a: 2.1457672e-06 | Máximo a: 0.9999956\n",
      "Mínimo b: 0.0 | Máximo b: 0.99999976\n"
     ]
    }
   ],
   "source": [
    "# 3. Encontrar min y max de a y b\n",
    "print(\"Mínimo a:\", tf.reduce_min(a).numpy(), \"| Máximo a:\", tf.reduce_max(a).numpy())\n",
    "print(\"Mínimo b:\", tf.reduce_min(b).numpy(), \"| Máximo b:\", tf.reduce_max(b).numpy())"
   ]
  },
  {
   "cell_type": "code",
   "execution_count": 5,
   "id": "eb09fdd1-b51c-4282-9f4c-5cf9cd6e43bf",
   "metadata": {},
   "outputs": [
    {
     "name": "stdout",
     "output_type": "stream",
     "text": [
      "\n",
      "Nueva forma: (224, 224, 3)\n"
     ]
    }
   ],
   "source": [
    "# 4. Crear tensor aleatorio entre 0 y 1 con forma [1, 224, 224, 3] y cambiar forma\n",
    "tensor_3d = tf.random.uniform(shape=[1, 224, 224, 3], minval=0, maxval=1)\n",
    "tensor_3d = tf.squeeze(tensor_3d)  # elimina la dimensión 1\n",
    "print(\"\\nNueva forma:\", tensor_3d.shape)"
   ]
  },
  {
   "cell_type": "code",
   "execution_count": 6,
   "id": "fe97769b-a9e8-4ce8-98af-404b85800e6e",
   "metadata": {},
   "outputs": [
    {
     "name": "stdout",
     "output_type": "stream",
     "text": [
      "\n",
      "Tensor imágenes forma: (5, 1, 1, 5, 5)\n"
     ]
    }
   ],
   "source": [
    "# 5. Crear 5 imágenes en escala de grises de 5x5 y transformarlas en tensor [5, 1, 1, 5, 5]\n",
    "images = [np.random.randint(0, 256, size=(5, 5), dtype=np.uint8) for _ in range(5)]\n",
    "tensor_images = tf.convert_to_tensor(images, dtype=tf.uint8)\n",
    "tensor_images = tf.reshape(tensor_images, [5, 1, 1, 5, 5])\n",
    "print(\"\\nTensor imágenes forma:\", tensor_images.shape)"
   ]
  },
  {
   "cell_type": "code",
   "execution_count": 7,
   "id": "6c2c44a7-84fe-4620-9702-7590c4ad9370",
   "metadata": {},
   "outputs": [
    {
     "data": {
      "image/png": "[encoded data removed]",
      "text/plain": [
       "<Figure size 640x480 with 1 Axes>"
      ]
     },
     "metadata": {},
     "output_type": "display_data"
    }
   ],
   "source": [
    "# 6. Función para visualizar imágenes (2D o 3D) con np.uint8\n",
    "def show_image(img_array):\n",
    "    if not isinstance(img_array, np.ndarray):\n",
    "        img_array = img_array.numpy()\n",
    "    if img_array.ndim == 2:  # escala de grises\n",
    "        plt.imshow(img_array, cmap=\"gray\")\n",
    "    else:\n",
    "        plt.imshow(img_array)\n",
    "    plt.axis(\"off\")\n",
    "    plt.show()\n",
    "\n",
    "# Probar la función con la primera imagen\n",
    "show_image(images[0])"
   ]
  },
  {
   "cell_type": "markdown",
   "id": "2004987d-94be-4fa1-a28b-743e4acea7e1",
   "metadata": {},
   "source": [
    "## Ejercicio 2: Registro de asistencia¶\n",
    "Este ejercicio requiere modelar el registro y contabilización de asistencias en una escuela usando tensores de TensorFlow. Puede inventar una lista de 15 estudiantes que participaron 60 días de clase durante un trimestre. Aunque no todos los estudiantes asistieron los 60 días, usted tiene el registro de cuando asistieron y cuando no. Su tarea será cuantificar los siguientes aspectos:\n",
    "\n",
    "1. ¿Cuál fue el estudiante que tuvo más faltas?\n",
    "2. ¿Cuántas asistencias tiene cada estudiante?\n",
    "3. ¿Cuál es el promedio de asistencia en el curso?\n",
    "4. ¿Qué estudiante tuvo menos faltas?"
   ]
  },
  {
   "cell_type": "code",
   "execution_count": 8,
   "id": "7285d023-4b78-4c2d-8068-3b7297d4682c",
   "metadata": {},
   "outputs": [],
   "source": [
    "# -------------------------------\n",
    "# Configuración y datos sintéticos\n",
    "# -------------------------------\n",
    "tf.random.set_seed(42)  # reproducibilidad\n",
    "\n",
    "num_students = 15\n",
    "num_days = 60\n",
    "p_present = 0.9   # probabilidad de asistencia (ajústala si quieres)\n",
    "students = [f\"Est_{i+1:02d}\" for i in range(num_students)]\n",
    "\n",
    "# Tensor binario [estudiante, día] con 1=asistió, 0=faltó\n",
    "attendance = tf.cast(tf.random.uniform([num_students, num_days]) < p_present, tf.int32)"
   ]
  },
  {
   "cell_type": "code",
   "execution_count": 9,
   "id": "25481627-42db-43c4-90f6-c8fdb69e35e9",
   "metadata": {},
   "outputs": [],
   "source": [
    "# --------------------------------\n",
    "# Cálculos solicitados por el enunciado\n",
    "# --------------------------------\n",
    "# 1) ¿Cuál fue el estudiante que tuvo más faltas?\n",
    "att_by_student = tf.reduce_sum(attendance, axis=1)          # asistencias por estudiante [15]\n",
    "abs_by_student = num_days - att_by_student                   # faltas por estudiante [15]\n",
    "max_abs = tf.reduce_max(abs_by_student)\n",
    "idx_max_abs = tf.where(abs_by_student == max_abs)[:, 0]      # todos los empatados\n",
    "\n",
    "# 2) ¿Cuántas asistencias tiene cada estudiante?\n",
    "#    (ya está en att_by_student)\n",
    "\n",
    "# 3) ¿Cuál es el promedio de asistencia en el curso?\n",
    "course_attendance_rate = tf.reduce_mean(tf.cast(attendance, tf.float32))  # proporción global\n",
    "\n",
    "# 4) ¿Qué estudiante tuvo menos faltas?\n",
    "min_abs = tf.reduce_min(abs_by_student)\n",
    "idx_min_abs = tf.where(abs_by_student == min_abs)[:, 0]      # todos los empatados"
   ]
  },
  {
   "cell_type": "code",
   "execution_count": 10,
   "id": "59f9d8e2-95cd-402e-8a38-324c07a85c01",
   "metadata": {},
   "outputs": [
    {
     "name": "stdout",
     "output_type": "stream",
     "text": [
      "=== Resumen de asistencia ===\n",
      "Forma del tensor de asistencia: (15, 60) (estudiantes x días)\n",
      "\n",
      "Asistencias por estudiante (orden Est_01..Est_15):\n",
      "[57, 52, 55, 57, 56, 54, 56, 56, 56, 54, 55, 53, 56, 57, 50]\n",
      "\n",
      "Promedio de asistencia del curso: 91.56%\n",
      "\n",
      "Máximo de faltas: 10\n",
      "Estudiante(s) con más faltas: ['Est_15']\n",
      "\n",
      "Mínimo de faltas: 3\n",
      "Estudiante(s) con menos faltas: ['Est_01', 'Est_04', 'Est_14']\n"
     ]
    }
   ],
   "source": [
    "# --------------------------------\n",
    "# Salidas legibles\n",
    "# --------------------------------\n",
    "def names_from_indices(indices):\n",
    "    return [students[int(i)] for i in indices.numpy().tolist()]\n",
    "\n",
    "print(\"=== Resumen de asistencia ===\")\n",
    "print(f\"Forma del tensor de asistencia: {attendance.shape} (estudiantes x días)\")\n",
    "print()\n",
    "\n",
    "print(\"Asistencias por estudiante (orden Est_01..Est_15):\")\n",
    "print(att_by_student.numpy().tolist())\n",
    "print()\n",
    "\n",
    "print(f\"Promedio de asistencia del curso: {course_attendance_rate.numpy()*100:.2f}%\")\n",
    "print()\n",
    "\n",
    "print(f\"Máximo de faltas: {int(max_abs.numpy())}\")\n",
    "print(\"Estudiante(s) con más faltas:\", names_from_indices(idx_max_abs))\n",
    "print()\n",
    "\n",
    "print(f\"Mínimo de faltas: {int(min_abs.numpy())}\")\n",
    "print(\"Estudiante(s) con menos faltas:\", names_from_indices(idx_min_abs))"
   ]
  },
  {
   "cell_type": "markdown",
   "id": "1d8ee45a-74e8-4000-84d7-3fd129732ed4",
   "metadata": {},
   "source": [
    "## **Ejercicio 3:** Métricas de Evaluación\n",
    "\n",
    "Este ultimo modelo obtuvo 95.3% de *accuracy*. Ahora, tendrás que investigar y visualizar las métricas de evaluación LogarithmicLoss, Matriz de Confusión, AUC, Recall, y F1 Score para un lote del subconjunto de evaluación. Las funciones para obtener estas se encuentran disponibles en la librería `sklearn.metrics`."
   ]
  },
  {
   "cell_type": "markdown",
   "id": "e7486762-05b9-4d8a-b0df-f3d731fa7c45",
   "metadata": {},
   "source": [
    "#### Tomaremos en cuenta todo lo que existe en el notebook de base"
   ]
  },
  {
   "cell_type": "code",
   "execution_count": 11,
   "id": "f2bbbbf6-6349-4d70-8ca8-55da97fd5379",
   "metadata": {},
   "outputs": [
    {
     "name": "stderr",
     "output_type": "stream",
     "text": [
      "WARNING:absl:Variant folder /root/tensorflow_datasets/fashion_mnist/3.0.1 has no dataset_info.json\n"
     ]
    },
    {
     "name": "stdout",
     "output_type": "stream",
     "text": [
      "\u001b[1mDownloading and preparing dataset Unknown size (download: Unknown size, generated: Unknown size, total: Unknown size) to /root/tensorflow_datasets/fashion_mnist/3.0.1...\u001b[0m\n"
     ]
    },
    {
     "data": {
      "application/vnd.jupyter.widget-view+json": {
       "model_id": "37486a71cb5d4511a58c24d1ab3c6df2",
       "version_major": 2,
       "version_minor": 0
      },
      "text/plain": [
       "Dl Completed...: 0 url [00:00, ? url/s]"
      ]
     },
     "metadata": {},
     "output_type": "display_data"
    },
    {
     "data": {
      "application/vnd.jupyter.widget-view+json": {
       "model_id": "bbd747a84afa4beab93dc4c2554e42e4",
       "version_major": 2,
       "version_minor": 0
      },
      "text/plain": [
       "Dl Size...: 0 MiB [00:00, ? MiB/s]"
      ]
     },
     "metadata": {},
     "output_type": "display_data"
    },
    {
     "data": {
      "application/vnd.jupyter.widget-view+json": {
       "model_id": "be1c71e9ecfd4e8da9d5b43d06df4fd9",
       "version_major": 2,
       "version_minor": 0
      },
      "text/plain": [
       "Extraction completed...: 0 file [00:00, ? file/s]"
      ]
     },
     "metadata": {},
     "output_type": "display_data"
    },
    {
     "data": {
      "application/vnd.jupyter.widget-view+json": {
       "model_id": "435fdb3a013145f888c946da8602da55",
       "version_major": 2,
       "version_minor": 0
      },
      "text/plain": [
       "Generating splits...:   0%|          | 0/2 [00:00<?, ? splits/s]"
      ]
     },
     "metadata": {},
     "output_type": "display_data"
    },
    {
     "data": {
      "application/vnd.jupyter.widget-view+json": {
       "model_id": "adc8bedf3ea24031bc8bffdd5dc35cc3",
       "version_major": 2,
       "version_minor": 0
      },
      "text/plain": [
       "Generating train examples...: 0 examples [00:00, ? examples/s]"
      ]
     },
     "metadata": {},
     "output_type": "display_data"
    },
    {
     "data": {
      "application/vnd.jupyter.widget-view+json": {
       "model_id": "8c828e5e54934bd380d6e6f37c9b84a8",
       "version_major": 2,
       "version_minor": 0
      },
      "text/plain": [
       "Shuffling /root/tensorflow_datasets/fashion_mnist/incomplete.CAUZZ2_3.0.1/fashion_mnist-train.tfrecord*...:   …"
      ]
     },
     "metadata": {},
     "output_type": "display_data"
    },
    {
     "data": {
      "application/vnd.jupyter.widget-view+json": {
       "model_id": "3e25f516430745b4ac40263c79bd190e",
       "version_major": 2,
       "version_minor": 0
      },
      "text/plain": [
       "Generating test examples...: 0 examples [00:00, ? examples/s]"
      ]
     },
     "metadata": {},
     "output_type": "display_data"
    },
    {
     "data": {
      "application/vnd.jupyter.widget-view+json": {
       "model_id": "8613c66c9f964f889979eab703800225",
       "version_major": 2,
       "version_minor": 0
      },
      "text/plain": [
       "Shuffling /root/tensorflow_datasets/fashion_mnist/incomplete.CAUZZ2_3.0.1/fashion_mnist-test.tfrecord*...:   0…"
      ]
     },
     "metadata": {},
     "output_type": "display_data"
    },
    {
     "name": "stdout",
     "output_type": "stream",
     "text": [
      "\u001b[1mDataset fashion_mnist downloaded and prepared to /root/tensorflow_datasets/fashion_mnist/3.0.1. Subsequent calls will reuse this data.\u001b[0m\n",
      "Train batch: (64, 28, 28, 1, 1) (64,)\n"
     ]
    },
    {
     "name": "stderr",
     "output_type": "stream",
     "text": [
      "2025-08-11 00:41:55.208082: W tensorflow/core/kernels/data/cache_dataset_ops.cc:858] The calling iterator did not fully read the dataset being cached. In order to avoid unexpected truncation of the dataset, the partially cached contents of the dataset  will be discarded. This can happen if you have an input pipeline similar to `dataset.cache().take(k).repeat()`. You should use `dataset.take(k).cache().repeat()` instead.\n",
      "2025-08-11 00:41:55.208879: W tensorflow/core/kernels/data/cache_dataset_ops.cc:858] The calling iterator did not fully read the dataset being cached. In order to avoid unexpected truncation of the dataset, the partially cached contents of the dataset  will be discarded. This can happen if you have an input pipeline similar to `dataset.cache().take(k).repeat()`. You should use `dataset.take(k).cache().repeat()` instead.\n"
     ]
    }
   ],
   "source": [
    "# 5.1/5.2 Carga de datos con tfds\n",
    "(training_set, ds_info_train), (testing_set, ds_info_test) = (\n",
    "    tfds.load('fashion_mnist', split='train', as_supervised=True, with_info=True),\n",
    "    tfds.load('fashion_mnist', split='test',  as_supervised=True, with_info=True),\n",
    ")\n",
    "\n",
    "# Normalización 0–1\n",
    "def normalize(image, label):\n",
    "    image = tf.cast(image, tf.float32) / 255.0  # (28,28)\n",
    "    image = tf.expand_dims(image, -1)           # -> (28,28,1) para Keras\n",
    "    return image, label\n",
    "\n",
    "# Pipeline (cache → shuffle → batch → prefetch)\n",
    "BATCH_SIZE = 64\n",
    "AUTOTUNE = tf.data.AUTOTUNE\n",
    "\n",
    "train_ds = (training_set\n",
    "            .map(normalize, num_parallel_calls=AUTOTUNE)\n",
    "            .cache()\n",
    "            .shuffle(10_000)\n",
    "            .batch(BATCH_SIZE)\n",
    "            .prefetch(AUTOTUNE))\n",
    "\n",
    "test_ds = (testing_set\n",
    "           .map(normalize, num_parallel_calls=AUTOTUNE)\n",
    "           .cache()\n",
    "           .batch(BATCH_SIZE)\n",
    "           .prefetch(AUTOTUNE))\n",
    "\n",
    "# Vista rápida de un batch (para verificar shapes)\n",
    "for xb, yb in train_ds.take(1):\n",
    "    print(\"Train batch:\", xb.shape, yb.shape)  # (64,28,28,1) (64,)"
   ]
  },
  {
   "cell_type": "code",
   "execution_count": 12,
   "id": "cb999b5b-c954-4998-ac3d-44228b55aa81",
   "metadata": {},
   "outputs": [
    {
     "name": "stdout",
     "output_type": "stream",
     "text": [
      "Epoch 1/5\n",
      "938/938 [==============================] - 2s 2ms/step - loss: 0.5206 - accuracy: 0.8184 - val_loss: 0.4461 - val_accuracy: 0.8408\n",
      "Epoch 2/5\n",
      "938/938 [==============================] - 1s 1ms/step - loss: 0.3879 - accuracy: 0.8618 - val_loss: 0.4047 - val_accuracy: 0.8581\n",
      "Epoch 3/5\n",
      "938/938 [==============================] - 1s 1ms/step - loss: 0.3497 - accuracy: 0.8733 - val_loss: 0.3752 - val_accuracy: 0.8645\n",
      "Epoch 4/5\n",
      "938/938 [==============================] - 1s 1ms/step - loss: 0.3242 - accuracy: 0.8819 - val_loss: 0.3979 - val_accuracy: 0.8585\n",
      "Epoch 5/5\n",
      "938/938 [==============================] - 1s 1ms/step - loss: 0.3054 - accuracy: 0.8889 - val_loss: 0.3532 - val_accuracy: 0.8719\n",
      "157/157 [==============================] - 0s 444us/step - loss: 0.3532 - accuracy: 0.8719\n",
      "\n",
      "Loss test: 0.3532 | Accuracy test: 0.8719\n"
     ]
    }
   ],
   "source": [
    "from tensorflow import keras\n",
    "from tensorflow.keras import layers\n",
    "\n",
    "# 5.3/5.4 Definición del modelo\n",
    "model = keras.Sequential([\n",
    "    layers.Flatten(input_shape=(28, 28, 1)),\n",
    "    layers.Dense(128, activation='relu'),\n",
    "    layers.Dense(10, activation='softmax')\n",
    "])\n",
    "\n",
    "# 5.5/5.6 Compilación y entrenamiento\n",
    "model.compile(optimizer='adam',\n",
    "              loss='sparse_categorical_crossentropy',\n",
    "              metrics=['accuracy'])\n",
    "\n",
    "EPOCHS = 5\n",
    "history = model.fit(train_ds, epochs=EPOCHS, validation_data=test_ds)\n",
    "\n",
    "# Evaluación rápida global (opcional)\n",
    "loss, acc = model.evaluate(test_ds)\n",
    "print(f\"\\nLoss test: {loss:.4f} | Accuracy test: {acc:.4f}\")"
   ]
  },
  {
   "cell_type": "code",
   "execution_count": 13,
   "id": "0fc4df27-dbf3-4f5b-8be2-71b7a74838e3",
   "metadata": {},
   "outputs": [
    {
     "name": "stdout",
     "output_type": "stream",
     "text": [
      "=== Métricas (lote de evaluación) ===\n",
      "Accuracy: 0.9688\n",
      "LogLoss:  0.1249\n",
      "Recall:   0.9775\n",
      "F1:       0.9711\n",
      "AUC:      0.9996\n"
     ]
    },
    {
     "data": {
      "image/png": "[encoded data removed]",
      "text/plain": [
       "<Figure size 500x400 with 2 Axes>"
      ]
     },
     "metadata": {},
     "output_type": "display_data"
    }
   ],
   "source": [
    "# Ejercicio 3 \n",
    "from sklearn.metrics import (\n",
    "    log_loss, confusion_matrix, roc_auc_score,\n",
    "    recall_score, f1_score, accuracy_score\n",
    ")\n",
    "\n",
    "# Tomamos UN lote del conjunto de evaluación (como pide el enunciado)\n",
    "X_batch, y_batch = next(iter(test_ds))\n",
    "y_true = y_batch.numpy()                    # (N,)\n",
    "y_prob = model.predict(X_batch, verbose=0)  # (N,10) softmax\n",
    "y_pred = np.argmax(y_prob, axis=1)          # (N,)\n",
    "\n",
    "# Métricas\n",
    "accuracy = accuracy_score(y_true, y_pred)\n",
    "logloss  = log_loss(y_true, y_prob)                               # usa probabilidades\n",
    "recall   = recall_score(y_true, y_pred, average=\"macro\")          # macro para multiclase\n",
    "f1       = f1_score(y_true, y_pred, average=\"macro\")\n",
    "auc      = roc_auc_score(y_true, y_prob, multi_class=\"ovr\", average=\"macro\")\n",
    "\n",
    "cm = confusion_matrix(y_true, y_pred)\n",
    "\n",
    "print(\"=== Métricas (lote de evaluación) ===\")\n",
    "print(f\"Accuracy: {accuracy:.4f}\")\n",
    "print(f\"LogLoss:  {logloss:.4f}\")\n",
    "print(f\"Recall:   {recall:.4f}\")\n",
    "print(f\"F1:       {f1:.4f}\")\n",
    "print(f\"AUC:      {auc:.4f}\")\n",
    "\n",
    "# Matriz de confusión (matplotlib puro)\n",
    "def plot_confusion_matrix(cm, class_names=None, normalize=False, title=\"Matriz de Confusión\"):\n",
    "    if normalize:\n",
    "        cm = cm.astype('float') / cm.sum(axis=1, keepdims=True)\n",
    "    plt.figure(figsize=(5,4))\n",
    "    plt.imshow(cm, interpolation='nearest')\n",
    "    plt.title(title)\n",
    "    plt.colorbar()\n",
    "    ticks = np.arange(cm.shape[0])\n",
    "    if class_names is None:\n",
    "        class_names = [str(i) for i in range(cm.shape[0])]\n",
    "    plt.xticks(ticks, class_names, rotation=45)\n",
    "    plt.yticks(ticks, class_names)\n",
    "    fmt = \".2f\" if normalize else \"d\"\n",
    "    thresh = cm.max() / 2.\n",
    "    for i in range(cm.shape[0]):\n",
    "        for j in range(cm.shape[1]):\n",
    "            plt.text(j, i, format(cm[i, j], fmt),\n",
    "                     ha=\"center\", va=\"center\")\n",
    "    plt.ylabel('Etiqueta real')\n",
    "    plt.xlabel('Etiqueta predicha')\n",
    "    plt.tight_layout()\n",
    "    plt.show()\n",
    "\n",
    "plot_confusion_matrix(cm, normalize=False, title=\"Matriz de Confusión (lote)\")"
   ]
  },
  {
   "cell_type": "markdown",
   "id": "57a94139-c9b6-4128-a43b-c4c5b36dea47",
   "metadata": {},
   "source": [
    "## **Ejercicio 4**: Clasificación de Imágenes\n",
    "\n",
    "Para este ejercicio deberas seleccionar un dataset de clasificación de imagenes desde el catálogo de datasets de TF. Luego, deberas crear una red neuronal para clasificar entre las diferentes categorias del dataset. Finalmente, deberas evaluar el modelo con un lote del subconjunto de evaluación."
   ]
  },
  {
   "cell_type": "code",
   "execution_count": 14,
   "id": "815ffcd2-2463-4c5a-9bdc-b8435e93b1d7",
   "metadata": {},
   "outputs": [],
   "source": [
    "# --------- 1) Configuración ---------\n",
    "# Cambiar este nombre por cualquier dataset de imágenes del catálogo TFDS\n",
    "DATASET_NAME = \"cifar10\"  # Ejemplos: \"tf_flowers\", \"cifar100\", \"rock_paper_scissors\"\n",
    "BATCH_SIZE = 64\n",
    "AUTOTUNE = tf.data.AUTOTUNE\n",
    "EPOCHS = 5  # Se sube para más precisión"
   ]
  },
  {
   "cell_type": "code",
   "execution_count": 15,
   "id": "7142715d-edf3-4c08-9bdf-c9b842eedd1a",
   "metadata": {},
   "outputs": [
    {
     "name": "stderr",
     "output_type": "stream",
     "text": [
      "WARNING:absl:Variant folder /root/tensorflow_datasets/cifar10/3.0.2 has no dataset_info.json\n"
     ]
    },
    {
     "name": "stdout",
     "output_type": "stream",
     "text": [
      "\u001b[1mDownloading and preparing dataset Unknown size (download: Unknown size, generated: Unknown size, total: Unknown size) to /root/tensorflow_datasets/cifar10/3.0.2...\u001b[0m\n"
     ]
    },
    {
     "data": {
      "application/vnd.jupyter.widget-view+json": {
       "model_id": "92d1b2e5262d4557aff84ff2d930b344",
       "version_major": 2,
       "version_minor": 0
      },
      "text/plain": [
       "Dl Completed...: 0 url [00:00, ? url/s]"
      ]
     },
     "metadata": {},
     "output_type": "display_data"
    },
    {
     "data": {
      "application/vnd.jupyter.widget-view+json": {
       "model_id": "5e526a592800468b9d801aeaae558b35",
       "version_major": 2,
       "version_minor": 0
      },
      "text/plain": [
       "Dl Size...: 0 MiB [00:00, ? MiB/s]"
      ]
     },
     "metadata": {},
     "output_type": "display_data"
    },
    {
     "data": {
      "application/vnd.jupyter.widget-view+json": {
       "model_id": "b0eb7f161dac46d8b7d2f3573ce5cf25",
       "version_major": 2,
       "version_minor": 0
      },
      "text/plain": [
       "Extraction completed...: 0 file [00:00, ? file/s]"
      ]
     },
     "metadata": {},
     "output_type": "display_data"
    },
    {
     "data": {
      "application/vnd.jupyter.widget-view+json": {
       "model_id": "97f7e360052c4226825844e5cd71c4a5",
       "version_major": 2,
       "version_minor": 0
      },
      "text/plain": [
       "Generating splits...:   0%|          | 0/2 [00:00<?, ? splits/s]"
      ]
     },
     "metadata": {},
     "output_type": "display_data"
    },
    {
     "data": {
      "application/vnd.jupyter.widget-view+json": {
       "model_id": "3016a24761aa4daabd86f713d18bb388",
       "version_major": 2,
       "version_minor": 0
      },
      "text/plain": [
       "Generating train examples...: 0 examples [00:00, ? examples/s]"
      ]
     },
     "metadata": {},
     "output_type": "display_data"
    },
    {
     "data": {
      "application/vnd.jupyter.widget-view+json": {
       "model_id": "c3c95cfe2b8a4dec821b989a824b86e9",
       "version_major": 2,
       "version_minor": 0
      },
      "text/plain": [
       "Shuffling /root/tensorflow_datasets/cifar10/incomplete.YSAQ23_3.0.2/cifar10-train.tfrecord*...:   0%|         …"
      ]
     },
     "metadata": {},
     "output_type": "display_data"
    },
    {
     "data": {
      "application/vnd.jupyter.widget-view+json": {
       "model_id": "f28d048c8def4ac0a4af5bac7c3b9815",
       "version_major": 2,
       "version_minor": 0
      },
      "text/plain": [
       "Generating test examples...: 0 examples [00:00, ? examples/s]"
      ]
     },
     "metadata": {},
     "output_type": "display_data"
    },
    {
     "data": {
      "application/vnd.jupyter.widget-view+json": {
       "model_id": "d5aaf320fb0f4a29b7dc94b5ed3ccc34",
       "version_major": 2,
       "version_minor": 0
      },
      "text/plain": [
       "Shuffling /root/tensorflow_datasets/cifar10/incomplete.YSAQ23_3.0.2/cifar10-test.tfrecord*...:   0%|          …"
      ]
     },
     "metadata": {},
     "output_type": "display_data"
    },
    {
     "name": "stdout",
     "output_type": "stream",
     "text": [
      "\u001b[1mDataset cifar10 downloaded and prepared to /root/tensorflow_datasets/cifar10/3.0.2. Subsequent calls will reuse this data.\u001b[0m\n",
      "Dataset: cifar10\n",
      "Clases: 10 → ['airplane', 'automobile', 'bird', 'cat', 'deer', 'dog', 'frog', 'horse', 'ship', 'truck']\n",
      "Tamaño de imagen original: (32, 32, 3)\n"
     ]
    }
   ],
   "source": [
    "# --------- 2) Cargar dataset ---------\n",
    "(train_ds_raw, info_train), (test_ds_raw, info_test) = (\n",
    "    tfds.load(DATASET_NAME, split=\"train\", as_supervised=True, with_info=True),\n",
    "    tfds.load(DATASET_NAME, split=\"test\", as_supervised=True, with_info=True),\n",
    ")\n",
    "\n",
    "class_names = info_train.features[\"label\"].names\n",
    "num_classes = len(class_names)\n",
    "img_shape = info_train.features[\"image\"].shape  # (H, W, C) o (None, None, C)\n",
    "print(f\"Dataset: {DATASET_NAME}\")\n",
    "print(f\"Clases: {num_classes} → {class_names}\")\n",
    "print(f\"Tamaño de imagen original: {img_shape}\")\n",
    "\n",
    "# Si la imagen no tiene tamaño fijo (None, None, C), definimos un resize estándar\n",
    "if img_shape[0] is None or img_shape[1] is None:\n",
    "    TARGET_SIZE = (128, 128)  # Puedes ajustar\n",
    "else:\n",
    "    TARGET_SIZE = (img_shape[0], img_shape[1])"
   ]
  },
  {
   "cell_type": "code",
   "execution_count": 16,
   "id": "92fdc2f2-2612-4dea-aa9e-72b22b2c60c6",
   "metadata": {},
   "outputs": [],
   "source": [
    "# --------- 3) Preprocesamiento ---------\n",
    "def preprocess(image, label):\n",
    "    image = tf.image.resize(image, TARGET_SIZE)      # Ajustar tamaño si es necesario\n",
    "    image = tf.cast(image, tf.float32) / 255.0       # Normalizar\n",
    "    return image, label\n",
    "\n",
    "train_ds = (train_ds_raw\n",
    "            .map(preprocess, num_parallel_calls=AUTOTUNE)\n",
    "            .cache()\n",
    "            .shuffle(10_000)\n",
    "            .batch(BATCH_SIZE)\n",
    "            .prefetch(AUTOTUNE))\n",
    "\n",
    "test_ds = (test_ds_raw\n",
    "           .map(preprocess, num_parallel_calls=AUTOTUNE)\n",
    "           .cache()\n",
    "           .batch(BATCH_SIZE)\n",
    "           .prefetch(AUTOTUNE))\n"
   ]
  },
  {
   "cell_type": "code",
   "execution_count": 17,
   "id": "5e3a8c6c-8cd2-4ed9-9f5e-187b70d85f93",
   "metadata": {},
   "outputs": [],
   "source": [
    "# --------- 4) Modelo CNN automático según número de clases ---------\n",
    "input_shape = TARGET_SIZE + (img_shape[2],)  # (H, W, C)\n",
    "\n",
    "model = keras.Sequential([\n",
    "    layers.Conv2D(32, 3, activation=\"relu\", padding=\"same\", input_shape=input_shape),\n",
    "    layers.Conv2D(32, 3, activation=\"relu\", padding=\"same\"),\n",
    "    layers.MaxPooling2D(),\n",
    "\n",
    "    layers.Conv2D(64, 3, activation=\"relu\", padding=\"same\"),\n",
    "    layers.Conv2D(64, 3, activation=\"relu\", padding=\"same\"),\n",
    "    layers.MaxPooling2D(),\n",
    "\n",
    "    layers.Flatten(),\n",
    "    layers.Dense(128, activation=\"relu\"),\n",
    "    layers.Dropout(0.3),\n",
    "    layers.Dense(num_classes, activation=\"softmax\"),\n",
    "])\n",
    "\n",
    "model.compile(optimizer=\"adam\",\n",
    "              loss=\"sparse_categorical_crossentropy\",\n",
    "              metrics=[\"accuracy\"])\n"
   ]
  },
  {
   "cell_type": "code",
   "execution_count": 18,
   "id": "65940117-5c03-44d7-bd77-389d719560ab",
   "metadata": {},
   "outputs": [
    {
     "name": "stdout",
     "output_type": "stream",
     "text": [
      "Epoch 1/5\n",
      "  1/782 [..............................] - ETA: 10:04 - loss: 2.2945 - accuracy: 0.1406"
     ]
    },
    {
     "name": "stderr",
     "output_type": "stream",
     "text": [
      "2025-08-11 00:48:24.409202: W external/local_tsl/tsl/framework/cpu_allocator_impl.cc:83] Allocation of 23592960 exceeds 10% of free system memory.\n",
      "2025-08-11 00:48:24.409659: W external/local_tsl/tsl/framework/cpu_allocator_impl.cc:83] Allocation of 23592960 exceeds 10% of free system memory.\n",
      "2025-08-11 00:48:24.447652: W external/local_tsl/tsl/framework/cpu_allocator_impl.cc:83] Allocation of 21528576 exceeds 10% of free system memory.\n",
      "2025-08-11 00:48:24.447745: W external/local_tsl/tsl/framework/cpu_allocator_impl.cc:83] Allocation of 21528576 exceeds 10% of free system memory.\n",
      "2025-08-11 00:48:24.464682: W external/local_tsl/tsl/framework/cpu_allocator_impl.cc:83] Allocation of 28311552 exceeds 10% of free system memory.\n"
     ]
    },
    {
     "name": "stdout",
     "output_type": "stream",
     "text": [
      "782/782 [==============================] - 34s 43ms/step - loss: 1.5139 - accuracy: 0.4504 - val_loss: 1.1404 - val_accuracy: 0.5928\n",
      "Epoch 2/5\n",
      "782/782 [==============================] - 34s 43ms/step - loss: 1.0820 - accuracy: 0.6185 - val_loss: 0.9153 - val_accuracy: 0.6784\n",
      "Epoch 3/5\n",
      "782/782 [==============================] - 36s 46ms/step - loss: 0.8981 - accuracy: 0.6840 - val_loss: 0.8636 - val_accuracy: 0.7043\n",
      "Epoch 4/5\n",
      "782/782 [==============================] - 36s 46ms/step - loss: 0.7866 - accuracy: 0.7263 - val_loss: 0.7682 - val_accuracy: 0.7335\n",
      "Epoch 5/5\n",
      "782/782 [==============================] - 32s 41ms/step - loss: 0.7041 - accuracy: 0.7517 - val_loss: 0.7384 - val_accuracy: 0.7392\n",
      "\n",
      "[Métrica en 1 lote de test] Loss: 0.7659 | Accuracy: 0.7812\n"
     ]
    }
   ],
   "source": [
    "# --------- 5) Entrenamiento ---------\n",
    "history = model.fit(train_ds, epochs=EPOCHS, validation_data=test_ds)\n",
    "\n",
    "# --------- 6) Evaluación en UN LOTE del test ---------\n",
    "X_batch, y_batch = next(iter(test_ds))\n",
    "loss_batch, acc_batch = model.evaluate(X_batch, y_batch, verbose=0)\n",
    "print(f\"\\n[Métrica en 1 lote de test] Loss: {loss_batch:.4f} | Accuracy: {acc_batch:.4f}\")"
   ]
  },
  {
   "cell_type": "code",
   "execution_count": 19,
   "id": "d574bee0-3f31-47e1-8f64-435c03db5860",
   "metadata": {},
   "outputs": [
    {
     "data": {
      "image/png": "[encoded data removed]",
      "text/plain": [
       "<Figure size 1200x600 with 8 Axes>"
      ]
     },
     "metadata": {},
     "output_type": "display_data"
    }
   ],
   "source": [
    "# --------- 7) Visualización de predicciones ---------\n",
    "y_prob = model.predict(X_batch, verbose=0)\n",
    "y_pred = np.argmax(y_prob, axis=1)\n",
    "\n",
    "plt.figure(figsize=(12, 6))\n",
    "for i in range(8):\n",
    "    plt.subplot(2, 4, i+1)\n",
    "    plt.imshow(X_batch[i].numpy())\n",
    "    plt.title(f\"Pred: {class_names[y_pred[i]]}\\nTrue: {class_names[int(y_batch[i])]}\")\n",
    "    plt.axis(\"off\")\n",
    "plt.tight_layout()\n",
    "plt.show()"
   ]
  },
  {
   "cell_type": "markdown",
   "id": "7b647c67-9da5-436c-8027-01532b0c1cae",
   "metadata": {},
   "source": [
    "### **Ejercicio 5:** Despliegue del modelo\n",
    "\n",
    "En este ejercicio, deberás desarrollar un modelo de predicción de la edad basado en redes neuronales convolucionales. El dataset que deberás usar es [UTKFace](https://susanqq.github.io/UTKFace/).\n",
    "\n",
    "Posterior a esto, deberás crear un archivo `.py` que reciba una imagen de un rostro (revisar el siguiente [tutorial](https://www.eumus.edu.uy/eme/ensenanza/electivas/python/2020/clase_08a.html) sobre como pasar argumentos a archivos python) de manera local y lo pase al modelo de tensorflow basado en CNNs, para que este imprima la categoría reconocida en la imagen. Se recomienda guardar una imagen del dataset en formato de archivo .jpg.\n",
    "\n",
    "Para presentar el trabajo debera adjuntar el archivo .py y un video demostrando de manera breve que su modelo CNN esta realizando inferencia.\n",
    "\n",
    "\n"
   ]
  },
  {
   "cell_type": "code",
   "execution_count": 26,
   "id": "a2852c6c-f6d3-4474-b33f-eddddee64b30",
   "metadata": {},
   "outputs": [
    {
     "name": "stdout",
     "output_type": "stream",
     "text": [
      "Total imágenes: 10137\n",
      "Ejemplos: ['data/utkface/UTKFace/100_1_0_20170110183726390.jpg', 'data/utkface/UTKFace/100_1_2_20170105174847679.jpg', 'data/utkface/UTKFace/100_1_2_20170110182836729.jpg']\n",
      "Splits: 8109 1013 1015\n"
     ]
    }
   ],
   "source": [
    "# Listar y crear los split\n",
    "from pathlib import Path\n",
    "import random, os\n",
    "\n",
    "tf.random.set_seed(42)\n",
    "random.seed(42)\n",
    "\n",
    "DATA_DIR = Path(\"data/utkface/UTKFace\")  # aquí deben estar los .jpg\n",
    "assert DATA_DIR.exists(), f\"No encuentro {DATA_DIR}. Revisa la ruta.\"\n",
    "\n",
    "# Listado de imágenes\n",
    "all_files = sorted([str(p) for p in DATA_DIR.glob(\"*.jpg\")])\n",
    "print(\"Total imágenes:\", len(all_files))\n",
    "print(\"Ejemplos:\", all_files[:3])\n",
    "\n",
    "# Split reproducible 80/10/10\n",
    "idx = np.random.permutation(len(all_files))\n",
    "n = len(idx)\n",
    "n_train = int(0.8*n)\n",
    "n_val   = int(0.1*n)\n",
    "\n",
    "train_files = [all_files[i] for i in idx[:n_train]]\n",
    "val_files   = [all_files[i] for i in idx[n_train:n_train+n_val]]\n",
    "test_files  = [all_files[i] for i in idx[n_train+n_val:]]\n",
    "\n",
    "print(\"Splits:\", len(train_files), len(val_files), len(test_files))"
   ]
  },
  {
   "cell_type": "code",
   "execution_count": 27,
   "id": "019d84fb-9dee-4b86-989f-8231ca001b56",
   "metadata": {},
   "outputs": [
    {
     "name": "stdout",
     "output_type": "stream",
     "text": [
      "WARNING:tensorflow:From /tmp/ipykernel_20/3687413690.py:30: ignore_errors (from tensorflow.python.data.experimental.ops.error_ops) is deprecated and will be removed in a future version.\n",
      "Instructions for updating:\n",
      "Use `tf.data.Dataset.ignore_errors` instead.\n"
     ]
    },
    {
     "name": "stderr",
     "output_type": "stream",
     "text": [
      "WARNING:tensorflow:From /tmp/ipykernel_20/3687413690.py:30: ignore_errors (from tensorflow.python.data.experimental.ops.error_ops) is deprecated and will be removed in a future version.\n",
      "Instructions for updating:\n",
      "Use `tf.data.Dataset.ignore_errors` instead.\n"
     ]
    },
    {
     "name": "stdout",
     "output_type": "stream",
     "text": [
      "Batch: (64, 128, 128, 3) (64,) | Ej. edad: 24.0\n"
     ]
    }
   ],
   "source": [
    "# Pipeline tf.data (decodificar imagen y extraer edad del nombre)\n",
    "\n",
    "IMG_SIZE = 128\n",
    "BATCH_SIZE = 64\n",
    "AUTOTUNE = tf.data.AUTOTUNE\n",
    "\n",
    "def parse_age_from_path(path: tf.Tensor) -> tf.Tensor:\n",
    "    # Nombre: 'age_gender_race_date.jpg' → tomamos el 1er campo (edad)\n",
    "    fname = tf.strings.split(path, os.sep)[-1]\n",
    "    age_str = tf.strings.split(fname, \"_\")[0]\n",
    "    age = tf.strings.to_number(age_str, out_type=tf.float32)\n",
    "    return age\n",
    "\n",
    "def load_and_preprocess(path: tf.Tensor):\n",
    "    img_bytes = tf.io.read_file(path)\n",
    "    img = tf.io.decode_jpeg(\n",
    "        img_bytes, channels=3,\n",
    "        try_recover_truncated=True, acceptable_fraction=0.7\n",
    "    )\n",
    "    img = tf.image.resize(img, [IMG_SIZE, IMG_SIZE])\n",
    "    img = tf.cast(img, tf.float32) / 255.0\n",
    "    label = parse_age_from_path(path)\n",
    "    return img, label\n",
    "\n",
    "def make_ds(file_list, training=False):\n",
    "    ds = tf.data.Dataset.from_tensor_slices(file_list)\n",
    "    if training:\n",
    "        ds = ds.shuffle(10_000, reshuffle_each_iteration=True)\n",
    "    ds = ds.map(load_and_preprocess, num_parallel_calls=AUTOTUNE)\n",
    "    ds = ds.apply(tf.data.experimental.ignore_errors())  # <- clave\n",
    "    ds = ds.batch(BATCH_SIZE).prefetch(AUTOTUNE)\n",
    "    return ds\n",
    "\n",
    "train_ds = make_ds(train_files, training=True)\n",
    "val_ds   = make_ds(val_files)\n",
    "test_ds  = make_ds(test_files)\n",
    "\n",
    "# Verificación rápida\n",
    "for xb, yb in train_ds.take(1):\n",
    "    print(\"Batch:\", xb.shape, yb.shape, \"| Ej. edad:\", float(yb[0]))"
   ]
  },
  {
   "cell_type": "code",
   "execution_count": 28,
   "id": "2e31d334-e4f7-4ac3-adfc-62152f767284",
   "metadata": {},
   "outputs": [
    {
     "name": "stdout",
     "output_type": "stream",
     "text": [
      "Epoch 1/10\n",
      "     18/Unknown - 14s 723ms/step - loss: 22.4129 - mae: 22.4129"
     ]
    },
    {
     "name": "stderr",
     "output_type": "stream",
     "text": [
      "Corrupt JPEG data: premature end of data segment\n"
     ]
    },
    {
     "name": "stdout",
     "output_type": "stream",
     "text": [
      "     27/Unknown - 20s 713ms/step - loss: 22.1245 - mae: 22.1245"
     ]
    },
    {
     "name": "stderr",
     "output_type": "stream",
     "text": [
      "2025-08-11 02:29:18.609522: W tensorflow/core/lib/png/png_io.cc:88] PNG warning: iCCP: known incorrect sRGB profile\n"
     ]
    },
    {
     "name": "stdout",
     "output_type": "stream",
     "text": [
      "     51/Unknown - 38s 728ms/step - loss: 20.9763 - mae: 20.9763"
     ]
    },
    {
     "name": "stderr",
     "output_type": "stream",
     "text": [
      "Corrupt JPEG data: premature end of data segment\n"
     ]
    },
    {
     "name": "stdout",
     "output_type": "stream",
     "text": [
      "127/127 [==============================] - 103s 806ms/step - loss: 19.7494 - mae: 19.7494 - val_loss: 20.2339 - val_mae: 20.2339\n",
      "Epoch 2/10\n",
      "105/127 [=======================>......] - ETA: 20s - loss: 17.7663 - mae: 17.7663"
     ]
    },
    {
     "name": "stderr",
     "output_type": "stream",
     "text": [
      "2025-08-11 02:32:17.470032: W tensorflow/core/lib/png/png_io.cc:88] PNG warning: iCCP: known incorrect sRGB profile\n"
     ]
    },
    {
     "name": "stdout",
     "output_type": "stream",
     "text": [
      "111/127 [=========================>....] - ETA: 14s - loss: 17.7483 - mae: 17.7483"
     ]
    },
    {
     "name": "stderr",
     "output_type": "stream",
     "text": [
      "Corrupt JPEG data: premature end of data segment\n"
     ]
    },
    {
     "name": "stdout",
     "output_type": "stream",
     "text": [
      "123/127 [============================>.] - ETA: 3s - loss: 17.6946 - mae: 17.6946"
     ]
    },
    {
     "name": "stderr",
     "output_type": "stream",
     "text": [
      "Corrupt JPEG data: premature end of data segment\n"
     ]
    },
    {
     "name": "stdout",
     "output_type": "stream",
     "text": [
      "127/127 [==============================] - 119s 935ms/step - loss: 17.6794 - mae: 17.6794 - val_loss: 17.0634 - val_mae: 17.0634\n",
      "Epoch 3/10\n",
      " 27/127 [=====>........................] - ETA: 1:29 - loss: 16.7362 - mae: 16.7362"
     ]
    },
    {
     "name": "stderr",
     "output_type": "stream",
     "text": [
      "2025-08-11 02:33:05.310729: W tensorflow/core/lib/png/png_io.cc:88] PNG warning: iCCP: known incorrect sRGB profile\n"
     ]
    },
    {
     "name": "stdout",
     "output_type": "stream",
     "text": [
      " 44/127 [=========>....................] - ETA: 1:13 - loss: 17.1037 - mae: 17.1037"
     ]
    },
    {
     "name": "stderr",
     "output_type": "stream",
     "text": [
      "Corrupt JPEG data: premature end of data segment\n"
     ]
    },
    {
     "name": "stdout",
     "output_type": "stream",
     "text": [
      "103/127 [=======================>......] - ETA: 21s - loss: 17.2804 - mae: 17.2804"
     ]
    },
    {
     "name": "stderr",
     "output_type": "stream",
     "text": [
      "Corrupt JPEG data: premature end of data segment\n"
     ]
    },
    {
     "name": "stdout",
     "output_type": "stream",
     "text": [
      "127/127 [==============================] - 115s 907ms/step - loss: 17.3063 - mae: 17.3063 - val_loss: 16.9987 - val_mae: 16.9987\n",
      "Epoch 4/10\n",
      " 12/127 [=>............................] - ETA: 1:38 - loss: 17.2033 - mae: 17.2033"
     ]
    },
    {
     "name": "stderr",
     "output_type": "stream",
     "text": [
      "2025-08-11 02:34:46.670774: W tensorflow/core/lib/png/png_io.cc:88] PNG warning: iCCP: known incorrect sRGB profile\n"
     ]
    },
    {
     "name": "stdout",
     "output_type": "stream",
     "text": [
      " 58/127 [============>.................] - ETA: 59s - loss: 17.0193 - mae: 17.0193 "
     ]
    },
    {
     "name": "stderr",
     "output_type": "stream",
     "text": [
      "Corrupt JPEG data: premature end of data segment\n"
     ]
    },
    {
     "name": "stdout",
     "output_type": "stream",
     "text": [
      " 86/127 [===================>..........] - ETA: 35s - loss: 16.8650 - mae: 16.8650"
     ]
    },
    {
     "name": "stderr",
     "output_type": "stream",
     "text": [
      "Corrupt JPEG data: premature end of data segment\n"
     ]
    },
    {
     "name": "stdout",
     "output_type": "stream",
     "text": [
      "127/127 [==============================] - 115s 905ms/step - loss: 16.6809 - mae: 16.6809 - val_loss: 16.0887 - val_mae: 16.0887\n",
      "Epoch 5/10\n",
      " 45/127 [=========>....................] - ETA: 1:10 - loss: 16.3227 - mae: 16.3227"
     ]
    },
    {
     "name": "stderr",
     "output_type": "stream",
     "text": [
      "Corrupt JPEG data: premature end of data segment\n"
     ]
    },
    {
     "name": "stdout",
     "output_type": "stream",
     "text": [
      " 98/127 [======================>.......] - ETA: 25s - loss: 16.2792 - mae: 16.2792"
     ]
    },
    {
     "name": "stderr",
     "output_type": "stream",
     "text": [
      "Corrupt JPEG data: premature end of data segment\n"
     ]
    },
    {
     "name": "stdout",
     "output_type": "stream",
     "text": [
      "124/127 [============================>.] - ETA: 2s - loss: 16.4094 - mae: 16.4094"
     ]
    },
    {
     "name": "stderr",
     "output_type": "stream",
     "text": [
      "2025-08-11 02:38:20.907077: W tensorflow/core/lib/png/png_io.cc:88] PNG warning: iCCP: known incorrect sRGB profile\n"
     ]
    },
    {
     "name": "stdout",
     "output_type": "stream",
     "text": [
      "127/127 [==============================] - 116s 914ms/step - loss: 16.3722 - mae: 16.3722 - val_loss: 15.8772 - val_mae: 15.8772\n",
      "Epoch 6/10\n",
      " 61/127 [=============>................] - ETA: 1:23 - loss: 15.9743 - mae: 15.9743"
     ]
    },
    {
     "name": "stderr",
     "output_type": "stream",
     "text": [
      "Corrupt JPEG data: premature end of data segment\n"
     ]
    },
    {
     "name": "stdout",
     "output_type": "stream",
     "text": [
      "123/127 [============================>.] - ETA: 5s - loss: 16.1021 - mae: 16.1021"
     ]
    },
    {
     "name": "stderr",
     "output_type": "stream",
     "text": [
      "2025-08-11 02:41:02.870685: W tensorflow/core/lib/png/png_io.cc:88] PNG warning: iCCP: known incorrect sRGB profile\n"
     ]
    },
    {
     "name": "stdout",
     "output_type": "stream",
     "text": [
      "125/127 [============================>.] - ETA: 2s - loss: 16.0975 - mae: 16.0975"
     ]
    },
    {
     "name": "stderr",
     "output_type": "stream",
     "text": [
      "Corrupt JPEG data: premature end of data segment\n"
     ]
    },
    {
     "name": "stdout",
     "output_type": "stream",
     "text": [
      "127/127 [==============================] - 165s 1s/step - loss: 16.1145 - mae: 16.1145 - val_loss: 16.0809 - val_mae: 16.0809\n",
      "Epoch 7/10\n"
     ]
    },
    {
     "name": "stderr",
     "output_type": "stream",
     "text": [
      "Corrupt JPEG data: premature end of data segment\n"
     ]
    },
    {
     "name": "stdout",
     "output_type": "stream",
     "text": [
      " 17/127 [===>..........................] - ETA: 2:14 - loss: 16.0089 - mae: 16.0089"
     ]
    },
    {
     "name": "stderr",
     "output_type": "stream",
     "text": [
      "2025-08-11 02:41:34.271641: W tensorflow/core/lib/png/png_io.cc:88] PNG warning: iCCP: known incorrect sRGB profile\n"
     ]
    },
    {
     "name": "stdout",
     "output_type": "stream",
     "text": [
      "112/127 [=========================>....] - ETA: 19s - loss: 15.8255 - mae: 15.8255"
     ]
    },
    {
     "name": "stderr",
     "output_type": "stream",
     "text": [
      "Corrupt JPEG data: premature end of data segment\n"
     ]
    },
    {
     "name": "stdout",
     "output_type": "stream",
     "text": [
      "127/127 [==============================] - 165s 1s/step - loss: 15.7850 - mae: 15.7850 - val_loss: 15.9544 - val_mae: 15.9544\n",
      "Epoch 8/10\n"
     ]
    },
    {
     "name": "stderr",
     "output_type": "stream",
     "text": [
      "Corrupt JPEG data: premature end of data segment\n"
     ]
    },
    {
     "name": "stdout",
     "output_type": "stream",
     "text": [
      " 49/127 [==========>...................] - ETA: 1:10 - loss: 15.4643 - mae: 15.4643"
     ]
    },
    {
     "name": "stderr",
     "output_type": "stream",
     "text": [
      "Corrupt JPEG data: premature end of data segment\n"
     ]
    },
    {
     "name": "stdout",
     "output_type": "stream",
     "text": [
      "124/127 [============================>.] - ETA: 2s - loss: 15.5704 - mae: 15.5704"
     ]
    },
    {
     "name": "stderr",
     "output_type": "stream",
     "text": [
      "2025-08-11 02:45:48.991760: W tensorflow/core/lib/png/png_io.cc:88] PNG warning: iCCP: known incorrect sRGB profile\n"
     ]
    },
    {
     "name": "stdout",
     "output_type": "stream",
     "text": [
      "127/127 [==============================] - 117s 923ms/step - loss: 15.5640 - mae: 15.5640 - val_loss: 15.3473 - val_mae: 15.3473\n",
      "Epoch 9/10\n",
      " 25/127 [====>.........................] - ETA: 1:53 - loss: 15.6839 - mae: 15.6839"
     ]
    },
    {
     "name": "stderr",
     "output_type": "stream",
     "text": [
      "2025-08-11 02:46:47.690220: W tensorflow/core/lib/png/png_io.cc:88] PNG warning: iCCP: known incorrect sRGB profile\n"
     ]
    },
    {
     "name": "stdout",
     "output_type": "stream",
     "text": [
      " 77/127 [=================>............] - ETA: 1:01 - loss: 15.4504 - mae: 15.4504"
     ]
    },
    {
     "name": "stderr",
     "output_type": "stream",
     "text": [
      "Corrupt JPEG data: premature end of data segment\n"
     ]
    },
    {
     "name": "stdout",
     "output_type": "stream",
     "text": [
      "120/127 [===========================>..] - ETA: 9s - loss: 15.5830 - mae: 15.5830 "
     ]
    },
    {
     "name": "stderr",
     "output_type": "stream",
     "text": [
      "Corrupt JPEG data: premature end of data segment\n"
     ]
    },
    {
     "name": "stdout",
     "output_type": "stream",
     "text": [
      "127/127 [==============================] - 167s 1s/step - loss: 15.5887 - mae: 15.5887 - val_loss: 15.6030 - val_mae: 15.6030\n",
      "Epoch 10/10\n",
      "  2/127 [..............................] - ETA: 2:17 - loss: 15.7120 - mae: 15.7120"
     ]
    },
    {
     "name": "stderr",
     "output_type": "stream",
     "text": [
      "Corrupt JPEG data: premature end of data segment\n"
     ]
    },
    {
     "name": "stdout",
     "output_type": "stream",
     "text": [
      " 63/127 [=============>................] - ETA: 1:03 - loss: 15.2699 - mae: 15.2699"
     ]
    },
    {
     "name": "stderr",
     "output_type": "stream",
     "text": [
      "2025-08-11 02:50:10.328152: W tensorflow/core/lib/png/png_io.cc:88] PNG warning: iCCP: known incorrect sRGB profile\n",
      "Corrupt JPEG data: premature end of data segment\n"
     ]
    },
    {
     "name": "stdout",
     "output_type": "stream",
     "text": [
      "127/127 [==============================] - 152s 1s/step - loss: 15.2497 - mae: 15.2497 - val_loss: 15.3557 - val_mae: 15.3557\n"
     ]
    }
   ],
   "source": [
    "# Modelo CNN (regresión de edad) + entrenamiento\n",
    "\n",
    "# (Opcional) Data augmentation simple\n",
    "data_aug = keras.Sequential([\n",
    "    layers.RandomFlip(\"horizontal\"),\n",
    "    layers.RandomRotation(0.05),\n",
    "    layers.RandomZoom(0.1),\n",
    "])\n",
    "\n",
    "model = keras.Sequential([\n",
    "    data_aug,\n",
    "    layers.Conv2D(32, 3, activation=\"relu\", padding=\"same\", input_shape=(IMG_SIZE, IMG_SIZE, 3)),\n",
    "    layers.Conv2D(32, 3, activation=\"relu\", padding=\"same\"),\n",
    "    layers.MaxPooling2D(),\n",
    "\n",
    "    layers.Conv2D(64, 3, activation=\"relu\", padding=\"same\"),\n",
    "    layers.Conv2D(64, 3, activation=\"relu\", padding=\"same\"),\n",
    "    layers.MaxPooling2D(),\n",
    "\n",
    "    layers.Flatten(),\n",
    "    layers.Dense(128, activation=\"relu\"),\n",
    "    layers.Dropout(0.3),\n",
    "    layers.Dense(1, activation=\"linear\"),  # salida continua (edad)\n",
    "])\n",
    "\n",
    "# Para regresión: MAE (interpretable en años) o MSE\n",
    "model.compile(optimizer=\"adam\", loss=\"mae\", metrics=[\"mae\"])\n",
    "\n",
    "EPOCHS = 10  # súbelo si tienes tiempo (p.ej. 15-25)\n",
    "history = model.fit(train_ds, validation_data=val_ds, epochs=EPOCHS)"
   ]
  },
  {
   "cell_type": "code",
   "execution_count": 30,
   "id": "3a2e2b31-6c96-41ae-aff3-76fe04909d94",
   "metadata": {},
   "outputs": [
    {
     "name": "stdout",
     "output_type": "stream",
     "text": [
      "[Test - 1 lote] MAE: 13.73 años\n",
      "Guardé una muestra en: /workspace/sample_utk.jpg\n",
      "INFO:tensorflow:Assets written to: models/utkface_age/assets\n"
     ]
    },
    {
     "name": "stderr",
     "output_type": "stream",
     "text": [
      "INFO:tensorflow:Assets written to: models/utkface_age/assets\n"
     ]
    },
    {
     "name": "stdout",
     "output_type": "stream",
     "text": [
      "Modelo guardado en: /workspace/models/utkface_age\n"
     ]
    }
   ],
   "source": [
    "# Evaluación rápida, guardar muestra y guardar el modelo\n",
    "from PIL import Image\n",
    "from pathlib import Path\n",
    "\n",
    "# Métrica en 1 lote de test (rápido)\n",
    "Xb, yb = next(iter(test_ds))\n",
    "loss_b, mae_b = model.evaluate(Xb, yb, verbose=0)\n",
    "print(f\"[Test - 1 lote] MAE: {mae_b:.2f} años\")\n",
    "\n",
    "# Guardar una imagen de muestra del dataset para el script CLI\n",
    "sample_path = test_files[0]\n",
    "Image.open(sample_path).save(\"sample_utk.jpg\")\n",
    "print(\"Guardé una muestra en:\", Path(\"sample_utk.jpg\").resolve())\n",
    "\n",
    "# Guardar el modelo (SavedModel)\n",
    "OUT_DIR = Path(\"models/utkface_age\")\n",
    "OUT_DIR.parent.mkdir(parents=True, exist_ok=True)\n",
    "model.save(str(OUT_DIR))\n",
    "print(\"Modelo guardado en:\", OUT_DIR.resolve())"
   ]
  },
  {
   "cell_type": "code",
   "execution_count": 31,
   "id": "fae35017-427a-4a1c-88ad-f689ced95d21",
   "metadata": {},
   "outputs": [
    {
     "name": "stdout",
     "output_type": "stream",
     "text": [
      "MAE test (best): 14.210247039794922\n"
     ]
    }
   ],
   "source": [
    "# Métrica final\n",
    "best = tf.keras.models.load_model(\"models/utkface_age\")\n",
    "print(\"MAE test (best):\", best.evaluate(test_ds, verbose=0)[1])"
   ]
  },
  {
   "cell_type": "code",
   "execution_count": null,
   "id": "45283810-fe95-4f5d-9951-aebaba4ef48f",
   "metadata": {},
   "outputs": [],
   "source": []
  }
 ],
 "metadata": {
  "kernelspec": {
   "display_name": "Python 3 (ipykernel)",
   "language": "python",
   "name": "python3"
  },
  "language_info": {
   "codemirror_mode": {
    "name": "ipython",
    "version": 3
   },
   "file_extension": ".py",
   "mimetype": "text/x-python",
   "name": "python",
   "nbconvert_exporter": "python",
   "pygments_lexer": "ipython3",
   "version": "3.10.18"
  }
 },
 "nbformat": 4,
 "nbformat_minor": 5
}
